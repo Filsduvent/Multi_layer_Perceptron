{
 "cells": [
  {
   "cell_type": "code",
   "execution_count": null,
   "id": "efe04c3b-7431-41e5-9289-fd730a5350fd",
   "metadata": {},
   "outputs": [],
   "source": []
  }
 ],
 "metadata": {
  "kernelspec": {
   "display_name": "",
   "name": ""
  },
  "language_info": {
   "name": ""
  }
 },
 "nbformat": 4,
 "nbformat_minor": 5
}
